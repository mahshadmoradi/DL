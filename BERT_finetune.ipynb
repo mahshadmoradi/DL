{
  "metadata": {
    "colab": {
      "provenance": [],
      "gpuType": "T4",
      "include_colab_link": true
    },
    "kernelspec": {
      "name": "python3",
      "display_name": "Python 3",
      "language": "python"
    },
    "language_info": {
      "name": "python",
      "version": "3.10.13",
      "mimetype": "text/x-python",
      "codemirror_mode": {
        "name": "ipython",
        "version": 3
      },
      "pygments_lexer": "ipython3",
      "nbconvert_exporter": "python",
      "file_extension": ".py"
    },
    "accelerator": "GPU",
    "widgets": {
      "application/vnd.jupyter.widget-state+json": {}
    },
    "kaggle": {
      "accelerator": "nvidiaTeslaT4",
      "dataSources": [],
      "dockerImageVersionId": 30648,
      "isInternetEnabled": true,
      "language": "python",
      "sourceType": "notebook",
      "isGpuEnabled": true
    }
  },
  "nbformat_minor": 0,
  "nbformat": 4,
  "cells": [
    {
      "cell_type": "markdown",
      "metadata": {
        "id": "view-in-github",
        "colab_type": "text"
      },
      "source": [
        "<a href=\"https://colab.research.google.com/github/mahshadmoradi/DL/blob/main/BERT_finetune.ipynb\" target=\"_parent\"><img src=\"https://colab.research.google.com/assets/colab-badge.svg\" alt=\"Open In Colab\"/></a>"
      ]
    },
    {
      "cell_type": "markdown",
      "source": [
        "#Fine-tuning BERT on SubtaskB dataset"
      ],
      "metadata": {
        "id": "T4r4PWm2uhZY"
      }
    },
    {
      "cell_type": "code",
      "source": [
        "from transformers import RobertaTokenizer, RobertaModel\n",
        "import sentencepiece\n",
        "import torch\n",
        "import numpy as np\n",
        "import random\n",
        "import json\n",
        "import torch.nn as nn\n",
        "from tqdm.notebook import tqdm\n",
        "import numpy as np\n",
        "import math\n",
        "import torch\n",
        "from torch.utils.data import DataLoader, Dataset\n",
        "from matplotlib import pyplot as plt\n",
        "import gc\n",
        "import time\n",
        "import datetime"
      ],
      "metadata": {
        "id": "Wi8f-5-8lT-O",
        "execution": {
          "iopub.status.busy": "2024-02-02T16:30:14.199885Z",
          "iopub.execute_input": "2024-02-02T16:30:14.200240Z",
          "iopub.status.idle": "2024-02-02T16:30:21.722960Z",
          "shell.execute_reply.started": "2024-02-02T16:30:14.200211Z",
          "shell.execute_reply": "2024-02-02T16:30:21.722163Z"
        },
        "trusted": true
      },
      "execution_count": null,
      "outputs": []
    },
    {
      "cell_type": "code",
      "source": [
        "#Set random values\n",
        "seed_val = 42\n",
        "random.seed(seed_val)\n",
        "np.random.seed(seed_val)\n",
        "torch.manual_seed(seed_val)\n",
        "if torch.cuda.is_available():\n",
        "  torch.cuda.manual_seed_all(seed_val)"
      ],
      "metadata": {
        "id": "EO1qGpP7nJLo",
        "execution": {
          "iopub.status.busy": "2024-02-02T16:30:21.724591Z",
          "iopub.execute_input": "2024-02-02T16:30:21.725200Z",
          "iopub.status.idle": "2024-02-02T16:30:21.776106Z",
          "shell.execute_reply.started": "2024-02-02T16:30:21.725167Z",
          "shell.execute_reply": "2024-02-02T16:30:21.775342Z"
        },
        "trusted": true
      },
      "execution_count": null,
      "outputs": []
    },
    {
      "cell_type": "code",
      "source": [
        "if torch.cuda.is_available():\n",
        "    device = torch.device(\"cuda\")\n",
        "    print('There are %d GPU(s) available.' % torch.cuda.device_count())\n",
        "    print('We will use the GPU:', torch.cuda.get_device_name(0))\n",
        "else:\n",
        "    print('No GPU available, using the CPU instead.')\n",
        "    device = torch.device(\"cpu\")"
      ],
      "metadata": {
        "id": "7IUfbutknNp2",
        "colab": {
          "base_uri": "https://localhost:8080/"
        },
        "outputId": "882f07d6-58a8-4772-db46-f265527fc9e0",
        "execution": {
          "iopub.status.busy": "2024-02-02T16:30:24.710307Z",
          "iopub.execute_input": "2024-02-02T16:30:24.710672Z",
          "iopub.status.idle": "2024-02-02T16:30:24.720076Z",
          "shell.execute_reply.started": "2024-02-02T16:30:24.710642Z",
          "shell.execute_reply": "2024-02-02T16:30:24.718958Z"
        },
        "trusted": true
      },
      "execution_count": null,
      "outputs": [
        {
          "name": "stdout",
          "text": "There are 2 GPU(s) available.\nWe will use the GPU: Tesla T4\n",
          "output_type": "stream"
        }
      ]
    },
    {
      "cell_type": "markdown",
      "source": [
        "##Data preparation"
      ],
      "metadata": {
        "id": "g4g8_nfdudJ7"
      }
    },
    {
      "cell_type": "code",
      "source": [
        "%%capture\n",
        "!pip install gdown\n",
        "import gdown\n",
        "\n",
        "id = \"11YeloR2eTXcTzdwI04Z-M2QVvIeQAU6-\"\n",
        "gdown.download_folder(id=id, quiet=True, use_cookies=False)"
      ],
      "metadata": {
        "id": "X6507UZSnQ8h",
        "execution": {
          "iopub.status.busy": "2024-02-02T16:30:29.293430Z",
          "iopub.execute_input": "2024-02-02T16:30:29.294131Z",
          "iopub.status.idle": "2024-02-02T16:30:54.387462Z",
          "shell.execute_reply.started": "2024-02-02T16:30:29.294101Z",
          "shell.execute_reply": "2024-02-02T16:30:54.386184Z"
        },
        "trusted": true
      },
      "execution_count": null,
      "outputs": []
    },
    {
      "cell_type": "code",
      "source": [
        "# # File paths\n",
        "# train_file = \"/content/drive/MyDrive/DL-project/Dataset/subtaskB_train.jsonl\"\n",
        "# dev_file = \"/content/drive/MyDrive/DL-project/Dataset/subtaskB_dev.jsonl\"\n",
        "\n",
        "# # Load the dataset\n",
        "# dataset = load_dataset(\"json\", data_files={\"train\": train_file, \"dev\": dev_file})"
      ],
      "metadata": {
        "id": "qU1htLe8nT7Y",
        "execution": {
          "iopub.status.busy": "2024-02-02T16:30:54.389869Z",
          "iopub.execute_input": "2024-02-02T16:30:54.390501Z",
          "iopub.status.idle": "2024-02-02T16:30:54.395693Z",
          "shell.execute_reply.started": "2024-02-02T16:30:54.390458Z",
          "shell.execute_reply": "2024-02-02T16:30:54.394589Z"
        },
        "trusted": true
      },
      "execution_count": null,
      "outputs": []
    },
    {
      "cell_type": "code",
      "source": [
        "# Open the JSONL file and read its contents\n",
        "with open('/kaggle/working/SubtaskB/subtaskB_train.jsonl', 'r') as file:\n",
        "    lines = file.readlines()\n",
        "\n",
        "# Parse each line as a JSON object\n",
        "train_objects = [json.loads(line) for line in lines]"
      ],
      "metadata": {
        "id": "bLTEISzq-6PG",
        "execution": {
          "iopub.status.busy": "2024-02-02T16:30:54.397033Z",
          "iopub.execute_input": "2024-02-02T16:30:54.397376Z",
          "iopub.status.idle": "2024-02-02T16:30:55.668303Z",
          "shell.execute_reply.started": "2024-02-02T16:30:54.397350Z",
          "shell.execute_reply": "2024-02-02T16:30:55.667331Z"
        },
        "trusted": true
      },
      "execution_count": null,
      "outputs": []
    },
    {
      "cell_type": "code",
      "source": [
        "# print(train_objects[199])"
      ],
      "metadata": {
        "id": "AieNGSxf_vKw",
        "execution": {
          "iopub.status.busy": "2024-02-01T21:28:05.831271Z",
          "iopub.execute_input": "2024-02-01T21:28:05.831625Z",
          "iopub.status.idle": "2024-02-01T21:28:05.837190Z",
          "shell.execute_reply.started": "2024-02-01T21:28:05.831592Z",
          "shell.execute_reply": "2024-02-01T21:28:05.836003Z"
        },
        "trusted": true
      },
      "execution_count": null,
      "outputs": []
    },
    {
      "cell_type": "code",
      "source": [
        "with open('/kaggle/working/SubtaskB/subtaskB_dev.jsonl', 'r') as file:\n",
        "    lines = file.readlines()\n",
        "\n",
        "dev_objects = [json.loads(line) for line in lines]"
      ],
      "metadata": {
        "id": "o5peyYtF-98L",
        "execution": {
          "iopub.status.busy": "2024-02-02T16:31:11.939881Z",
          "iopub.execute_input": "2024-02-02T16:31:11.940223Z",
          "iopub.status.idle": "2024-02-02T16:31:11.993116Z",
          "shell.execute_reply.started": "2024-02-02T16:31:11.940197Z",
          "shell.execute_reply": "2024-02-02T16:31:11.992287Z"
        },
        "trusted": true
      },
      "execution_count": null,
      "outputs": []
    },
    {
      "cell_type": "code",
      "source": [
        "def create_balanced_dataset(data, target_size_percentage, labels=[0, 1, 2, 3, 4, 5]):\n",
        "    # Filter data by labels\n",
        "    data_by_label = {label: [item for item in data if item['label'] == label] for label in labels}\n",
        "\n",
        "    # Calculate the number of samples per label\n",
        "    total_samples = int(len(data) * target_size_percentage / len(labels))\n",
        "    balanced_data = []\n",
        "\n",
        "    # Select an equal number of samples from each label group\n",
        "    for label in labels:\n",
        "        balanced_data.extend(random.sample(data_by_label[label], total_samples))\n",
        "\n",
        "    # Shuffle the dataset\n",
        "    random.shuffle(balanced_data)\n",
        "\n",
        "    return balanced_data"
      ],
      "metadata": {
        "id": "V2DSxQqSBvlg",
        "execution": {
          "iopub.status.busy": "2024-02-02T16:31:13.543958Z",
          "iopub.execute_input": "2024-02-02T16:31:13.544282Z",
          "iopub.status.idle": "2024-02-02T16:31:13.550771Z",
          "shell.execute_reply.started": "2024-02-02T16:31:13.544258Z",
          "shell.execute_reply": "2024-02-02T16:31:13.549842Z"
        },
        "trusted": true
      },
      "execution_count": null,
      "outputs": []
    },
    {
      "cell_type": "code",
      "source": [
        "# # Create the balanced dataset\n",
        "# balanced_dataset = create_balanced_dataset(train_objects, 0.50)  # 20% of the original size\n",
        "\n",
        "# # Print the first 5 samples to check their structure\n",
        "# print(\"First 5 samples:\", balanced_dataset[:5])\n",
        "\n",
        "# # Check the length of the dataset\n",
        "# print(\"Total number of samples in the balanced dataset:\", len(balanced_dataset))\n",
        "\n",
        "# # Check the label distribution\n",
        "# label_count = {label: sum(item['label'] == label for item in balanced_dataset) for label in [0, 1, 2, 3, 4, 5]}\n",
        "# print(\"Label distribution:\", label_count)\n",
        "\n",
        "# # Optionally, inspect specific entries by their index\n",
        "# index_to_check = 10\n",
        "# print(\"Sample at index 10:\", balanced_dataset[index_to_check])"
      ],
      "metadata": {
        "id": "lov2b6DFCB-v",
        "execution": {
          "iopub.status.busy": "2024-02-01T21:28:10.793725Z",
          "iopub.execute_input": "2024-02-01T21:28:10.794126Z",
          "iopub.status.idle": "2024-02-01T21:28:10.799179Z",
          "shell.execute_reply.started": "2024-02-01T21:28:10.794095Z",
          "shell.execute_reply": "2024-02-01T21:28:10.798054Z"
        },
        "trusted": true
      },
      "execution_count": null,
      "outputs": []
    },
    {
      "cell_type": "code",
      "source": [
        "  # id -> identifier of the example,\n",
        "  # label -> label (human: 0, chatGPT: 1, cohere: 2, davinci: 3, bloomz: 4, dolly: 5),\n",
        "  # text -> text generated by machine or written by human,\n",
        "  # model -> model name that generated data,\n",
        "  # source -> source (Wikipedia, Wikihow, Peerread, Reddit, Arxiv) on English"
      ],
      "metadata": {
        "id": "ItxBzQcjnyTu",
        "execution": {
          "iopub.status.busy": "2024-02-01T21:28:11.882190Z",
          "iopub.execute_input": "2024-02-01T21:28:11.882863Z",
          "iopub.status.idle": "2024-02-01T21:28:11.886740Z",
          "shell.execute_reply.started": "2024-02-01T21:28:11.882832Z",
          "shell.execute_reply": "2024-02-01T21:28:11.885790Z"
        },
        "trusted": true
      },
      "execution_count": null,
      "outputs": []
    },
    {
      "cell_type": "code",
      "source": [
        "learning_rate = 1e-6\n",
        "num_classes = 6\n",
        "max_seq_length = 128\n",
        "label_list = list(range(6))\n",
        "batch_size = 32"
      ],
      "metadata": {
        "id": "BH3ssZ75P0Ht",
        "execution": {
          "iopub.status.busy": "2024-02-02T16:31:20.621020Z",
          "iopub.execute_input": "2024-02-02T16:31:20.621731Z",
          "iopub.status.idle": "2024-02-02T16:31:20.626346Z",
          "shell.execute_reply.started": "2024-02-02T16:31:20.621701Z",
          "shell.execute_reply": "2024-02-02T16:31:20.625446Z"
        },
        "trusted": true
      },
      "execution_count": null,
      "outputs": []
    },
    {
      "cell_type": "code",
      "source": [
        "class SemEval_Dataset(Dataset):\n",
        "    def __init__(self, json_file, label_list, max_seq_length, tokenizer, dtype=torch.long):\n",
        "        self.json_file = json_file\n",
        "        self.dtype = dtype\n",
        "        self.label_list = label_list  # [0, 1, 2, 3, 4, 5]\n",
        "        self.max_seq_length = max_seq_length\n",
        "        self.tokenizer = tokenizer\n",
        "\n",
        "    def __len__(self):\n",
        "        return len(self.json_file)\n",
        "\n",
        "    def feature_extractor(self, text, label=None):\n",
        "        tokenized_text = self.tokenizer(text, add_special_tokens=True, padding='max_length', truncation=True, max_length=self.max_seq_length, return_tensors=\"pt\")\n",
        "        input_ids = tokenized_text['input_ids']\n",
        "        attention_mask = tokenized_text['attention_mask']\n",
        "\n",
        "        label = torch.tensor(label, dtype=self.dtype)\n",
        "        return input_ids, attention_mask, label\n",
        "\n",
        "    def __getitem__(self, idx):\n",
        "        data = self.json_file[idx]\n",
        "        input_ids, attention_mask, label = self.feature_extractor(data['text'], label=data['label'])\n",
        "\n",
        "        return input_ids.squeeze(0), attention_mask.squeeze(0), label"
      ],
      "metadata": {
        "id": "EEzSjuIaODzD",
        "execution": {
          "iopub.status.busy": "2024-02-02T16:31:21.738296Z",
          "iopub.execute_input": "2024-02-02T16:31:21.738926Z",
          "iopub.status.idle": "2024-02-02T16:31:21.748102Z",
          "shell.execute_reply.started": "2024-02-02T16:31:21.738894Z",
          "shell.execute_reply": "2024-02-02T16:31:21.747182Z"
        },
        "trusted": true
      },
      "execution_count": null,
      "outputs": []
    },
    {
      "cell_type": "markdown",
      "source": [
        "##Model"
      ],
      "metadata": {
        "id": "lmAxZHXwuYbO"
      }
    },
    {
      "cell_type": "code",
      "source": [
        "# Load pre-trained BERT model and tokenizer\n",
        "model_name = 'roberta-large'\n",
        "tokenizer = RobertaTokenizer.from_pretrained(model_name)\n",
        "bert_model = RobertaModel.from_pretrained(model_name)"
      ],
      "metadata": {
        "id": "HJ9JVAp0liLy",
        "colab": {
          "base_uri": "https://localhost:8080/",
          "referenced_widgets": [
            "bb242bb057dd4f3fb329f0a408ed5731",
            "4801ab14a6ed4159a481e758dd2a511d",
            "5486c081f4a14abeaa8e5c0b2fcd1659",
            "f4df262dccbd4de98c2aa7abe5471c27",
            "83f6aa95d90341ef9d9bb3e39b418027"
          ]
        },
        "outputId": "b1258d42-b189-408e-869c-27d9770f0adf",
        "execution": {
          "iopub.status.busy": "2024-02-02T16:31:23.072322Z",
          "iopub.execute_input": "2024-02-02T16:31:23.073030Z",
          "iopub.status.idle": "2024-02-02T16:31:35.750654Z",
          "shell.execute_reply.started": "2024-02-02T16:31:23.072997Z",
          "shell.execute_reply": "2024-02-02T16:31:35.749667Z"
        },
        "trusted": true
      },
      "execution_count": null,
      "outputs": [
        {
          "output_type": "display_data",
          "data": {
            "text/plain": "vocab.json:   0%|          | 0.00/899k [00:00<?, ?B/s]",
            "application/vnd.jupyter.widget-view+json": {
              "version_major": 2,
              "version_minor": 0,
              "model_id": "bb242bb057dd4f3fb329f0a408ed5731"
            }
          },
          "metadata": {}
        },
        {
          "output_type": "display_data",
          "data": {
            "text/plain": "merges.txt:   0%|          | 0.00/456k [00:00<?, ?B/s]",
            "application/vnd.jupyter.widget-view+json": {
              "version_major": 2,
              "version_minor": 0,
              "model_id": "4801ab14a6ed4159a481e758dd2a511d"
            }
          },
          "metadata": {}
        },
        {
          "output_type": "display_data",
          "data": {
            "text/plain": "tokenizer.json:   0%|          | 0.00/1.36M [00:00<?, ?B/s]",
            "application/vnd.jupyter.widget-view+json": {
              "version_major": 2,
              "version_minor": 0,
              "model_id": "5486c081f4a14abeaa8e5c0b2fcd1659"
            }
          },
          "metadata": {}
        },
        {
          "output_type": "display_data",
          "data": {
            "text/plain": "config.json:   0%|          | 0.00/482 [00:00<?, ?B/s]",
            "application/vnd.jupyter.widget-view+json": {
              "version_major": 2,
              "version_minor": 0,
              "model_id": "f4df262dccbd4de98c2aa7abe5471c27"
            }
          },
          "metadata": {}
        },
        {
          "output_type": "display_data",
          "data": {
            "text/plain": "model.safetensors:   0%|          | 0.00/1.42G [00:00<?, ?B/s]",
            "application/vnd.jupyter.widget-view+json": {
              "version_major": 2,
              "version_minor": 0,
              "model_id": "83f6aa95d90341ef9d9bb3e39b418027"
            }
          },
          "metadata": {}
        },
        {
          "name": "stderr",
          "text": "Some weights of RobertaModel were not initialized from the model checkpoint at roberta-large and are newly initialized: ['roberta.pooler.dense.bias', 'roberta.pooler.dense.weight']\nYou should probably TRAIN this model on a down-stream task to be able to use it for predictions and inference.\n",
          "output_type": "stream"
        }
      ]
    },
    {
      "cell_type": "code",
      "source": [
        "# tokenizer"
      ],
      "metadata": {
        "id": "mzNz_11TxdAA",
        "execution": {
          "iopub.status.busy": "2024-02-01T21:28:25.556891Z",
          "iopub.execute_input": "2024-02-01T21:28:25.557624Z",
          "iopub.status.idle": "2024-02-01T21:28:25.564617Z",
          "shell.execute_reply.started": "2024-02-01T21:28:25.557590Z",
          "shell.execute_reply": "2024-02-01T21:28:25.563685Z"
        },
        "trusted": true
      },
      "execution_count": null,
      "outputs": []
    },
    {
      "cell_type": "code",
      "source": [
        "class BertForClassification(nn.Module):\n",
        "    def __init__(self, bert_modele):\n",
        "        super(BertForClassification, self).__init__()\n",
        "        self.bert = bert_modele\n",
        "#         self.dropout = torch.nn.Dropout(0.3)\n",
        "        self.linear = nn.Linear(self.bert.config.hidden_size, 256)\n",
        "        self.relu = nn.ReLU()\n",
        "        self.classifier = nn.Linear(256, 6)\n",
        "\n",
        "    def forward(self, input_ids, attention_mask):\n",
        "        outputs = self.bert(input_ids=input_ids, attention_mask=attention_mask)\n",
        "        pooled_output = outputs.pooler_output # return embedding of 'CLS' token for classification.\n",
        "#         pooled_output = self.dropout(pooled_output)\n",
        "        output = self.relu(self.linear(pooled_output))\n",
        "        return self.classifier(output)"
      ],
      "metadata": {
        "id": "S8bs52iptlj1",
        "execution": {
          "iopub.status.busy": "2024-02-02T16:31:35.752361Z",
          "iopub.execute_input": "2024-02-02T16:31:35.752655Z",
          "iopub.status.idle": "2024-02-02T16:31:35.761480Z",
          "shell.execute_reply.started": "2024-02-02T16:31:35.752630Z",
          "shell.execute_reply": "2024-02-02T16:31:35.760727Z"
        },
        "trusted": true
      },
      "execution_count": null,
      "outputs": []
    },
    {
      "cell_type": "code",
      "source": [
        "# import copy\n",
        "\n",
        "# model = BertForClassification(bert_model)\n",
        "# model = nn.DataParallel(model).to(device)"
      ],
      "metadata": {
        "id": "yOIZvj6Sl6qA",
        "execution": {
          "iopub.status.busy": "2024-02-01T10:35:57.867350Z",
          "iopub.execute_input": "2024-02-01T10:35:57.867699Z",
          "iopub.status.idle": "2024-02-01T10:35:58.947246Z",
          "shell.execute_reply.started": "2024-02-01T10:35:57.867671Z",
          "shell.execute_reply": "2024-02-01T10:35:58.945746Z"
        },
        "trusted": true
      },
      "execution_count": null,
      "outputs": []
    },
    {
      "cell_type": "code",
      "source": [
        "tokenizer = RobertaTokenizer.from_pretrained(model_name)\n",
        "\n",
        "dev_dataset = SemEval_Dataset(dev_objects, label_list, max_seq_length, tokenizer, dtype=torch.long)\n",
        "dev_dataloader = DataLoader(dataset=dev_dataset, batch_size=batch_size, shuffle=True, drop_last=False)"
      ],
      "metadata": {
        "id": "iv-zqVvrXDDD",
        "execution": {
          "iopub.status.busy": "2024-02-02T16:31:35.762586Z",
          "iopub.execute_input": "2024-02-02T16:31:35.762881Z",
          "iopub.status.idle": "2024-02-02T16:31:36.112295Z",
          "shell.execute_reply.started": "2024-02-02T16:31:35.762858Z",
          "shell.execute_reply": "2024-02-02T16:31:36.111332Z"
        },
        "trusted": true
      },
      "execution_count": null,
      "outputs": []
    },
    {
      "cell_type": "code",
      "source": [
        "tokenizer = RobertaTokenizer.from_pretrained(model_name)\n",
        "\n",
        "def create_dataset(percentage):\n",
        "    traindata = create_balanced_dataset(train_objects, percentage)\n",
        "    train_dataset = SemEval_Dataset(traindata, label_list, max_seq_length, tokenizer, dtype=torch.long)\n",
        "    train_dataloader = DataLoader(dataset=train_dataset, batch_size=batch_size, shuffle=True, drop_last=False)\n",
        "    return train_dataloader\n"
      ],
      "metadata": {
        "execution": {
          "iopub.status.busy": "2024-02-02T16:31:36.171046Z",
          "iopub.execute_input": "2024-02-02T16:31:36.171428Z",
          "iopub.status.idle": "2024-02-02T16:31:36.598337Z",
          "shell.execute_reply.started": "2024-02-02T16:31:36.171401Z",
          "shell.execute_reply": "2024-02-02T16:31:36.597556Z"
        },
        "trusted": true,
        "id": "OiUuZ64bt5-6"
      },
      "execution_count": null,
      "outputs": []
    },
    {
      "cell_type": "markdown",
      "source": [
        "##Train and Evaluation"
      ],
      "metadata": {
        "id": "htpVNh-ruNWx"
      }
    },
    {
      "cell_type": "code",
      "source": [
        "def format_time(elapsed):\n",
        "    '''\n",
        "    Takes a time in seconds and returns a string hh:mm:ss\n",
        "    '''\n",
        "    # Round to the nearest second.\n",
        "    elapsed_rounded = int(round((elapsed)))\n",
        "    # Format as hh:mm:ss\n",
        "    return str(datetime.timedelta(seconds=elapsed_rounded))"
      ],
      "metadata": {
        "execution": {
          "iopub.status.busy": "2024-02-02T16:31:40.852179Z",
          "iopub.execute_input": "2024-02-02T16:31:40.852732Z",
          "iopub.status.idle": "2024-02-02T16:31:40.858680Z",
          "shell.execute_reply.started": "2024-02-02T16:31:40.852700Z",
          "shell.execute_reply": "2024-02-02T16:31:40.857844Z"
        },
        "trusted": true,
        "id": "TwQgs-Dzt5-6"
      },
      "execution_count": null,
      "outputs": []
    },
    {
      "cell_type": "code",
      "source": [
        "from sklearn.metrics import f1_score\n",
        "\n",
        "def train_evaluate(model, train_dataloader, dev_dataloader, num_train_epochs, return_loss=False):\n",
        "\n",
        "    start_time = time.time()  # Record the start time\n",
        "\n",
        "    if return_loss:\n",
        "        train_loss_per_epoch = []\n",
        "        val_loss_per_epoch = []\n",
        "    loss_fn = torch.nn.CrossEntropyLoss()\n",
        "    optimizer = torch.optim.AdamW(model.parameters(), lr=learning_rate)\n",
        "\n",
        "    for epoch_num in range(num_train_epochs):\n",
        "        print('Epoch: ', epoch_num + 1)\n",
        "        train_accuracy, train_loss = train_epoch(model, train_dataloader, loss_fn, optimizer)\n",
        "        valid_accuracy, valid_loss = evaluate(model, dev_dataloader)\n",
        "\n",
        "        # Print results for the epoch\n",
        "        print(\"Train Accuracy: {0:.4f} \".format(train_accuracy))\n",
        "        print(\"Train Loss: {0:.4f} \".format(train_loss))\n",
        "        print(\"Validation Accuracy: {0:.4f} \".format(valid_accuracy))\n",
        "        print(\"Validation Loss: {0:.4f} \\n \".format(valid_loss))\n",
        "\n",
        "        if return_loss:\n",
        "            train_loss_per_epoch.append(train_loss)\n",
        "            val_loss_per_epoch.append(valid_loss)\n",
        "\n",
        "    end_time = time.time()  # Record the end time\n",
        "    total_time = end_time - start_time  # Calculate total duration\n",
        "    formatted_time = format_time(total_time)\n",
        "    print(f\"Training and evaluation time: {formatted_time} \")\n",
        "\n",
        "    if return_loss:\n",
        "        return train_loss_per_epoch, val_loss_per_epoch\n",
        "\n",
        "def train_epoch(model, train_dataloader, loss_fn, optimizer):\n",
        "    # Training\n",
        "    model.train()\n",
        "    train_loss = 0\n",
        "    correct_train_predictions = 0\n",
        "    total_train_predictions = 0\n",
        "\n",
        "    for step_num, batch_data in enumerate(tqdm(train_dataloader, desc='Training')):\n",
        "        torch.cuda.empty_cache()\n",
        "        gc.collect()\n",
        "        input_ids, att_mask, labels = [data.to(device) for data in batch_data]\n",
        "\n",
        "        # Forward pass\n",
        "        outputs = model(input_ids=input_ids, attention_mask=att_mask)\n",
        "        loss = loss_fn(outputs, labels)\n",
        "\n",
        "        # Calculate training accuracy\n",
        "        _, predicted = torch.max(outputs, dim=1)\n",
        "        correct_train_predictions += (predicted == labels).sum().item()\n",
        "        total_train_predictions += labels.size(0)\n",
        "\n",
        "        # Backward pass and optimization\n",
        "        train_loss += loss.item()\n",
        "        model.zero_grad()\n",
        "        loss.backward()\n",
        "        optimizer.step()\n",
        "\n",
        "        for data in batch_data:\n",
        "            data.cpu()\n",
        "\n",
        "    average_train_accuracy = correct_train_predictions / total_train_predictions\n",
        "\n",
        "    return average_train_accuracy, train_loss / len(train_dataloader)\n",
        "\n",
        "def evaluate(model, dev_dataloader, return_pred_labels=False):\n",
        "        loss_fn = torch.nn.CrossEntropyLoss()\n",
        "        model.eval()\n",
        "        valid_loss = 0\n",
        "        correct_val_predictions = 0\n",
        "        total_val_predictions = 0\n",
        "        valid_pred = []\n",
        "        valid_labels = []\n",
        "\n",
        "        with torch.no_grad():\n",
        "            for step_num_e, batch_data in enumerate(tqdm(dev_dataloader, desc='Validation')):\n",
        "                torch.cuda.empty_cache()\n",
        "                gc.collect()\n",
        "                input_ids, att_mask, labels = [data.to(device) for data in batch_data]\n",
        "\n",
        "                # Forward pass\n",
        "                outputs = model(input_ids=input_ids, attention_mask=att_mask)\n",
        "                loss = loss_fn(outputs, labels)\n",
        "                valid_loss += loss.item()\n",
        "\n",
        "                _, predicted = torch.max(outputs, dim=1)\n",
        "                valid_pred.append(predicted.cpu().numpy())\n",
        "                valid_labels.append(labels.cpu().numpy())\n",
        "\n",
        "                correct_val_predictions += (predicted == labels).sum().item()\n",
        "                total_val_predictions += labels.size(0)\n",
        "                for data in batch_data:\n",
        "                    data.cpu()\n",
        "\n",
        "        average_val_accuracy = correct_val_predictions / total_val_predictions\n",
        "        valid_pred = np.concatenate(valid_pred)\n",
        "        valid_labels = np.concatenate(valid_labels)\n",
        "\n",
        "        if return_pred_labels:\n",
        "            return average_val_accuracy, valid_loss / len(dev_dataloader), valid_pred, valid_labels\n",
        "        else:\n",
        "            return average_val_accuracy, valid_loss / len(dev_dataloader)"
      ],
      "metadata": {
        "id": "q0vfrACigwul",
        "execution": {
          "iopub.status.busy": "2024-02-02T16:31:45.236358Z",
          "iopub.execute_input": "2024-02-02T16:31:45.236714Z",
          "iopub.status.idle": "2024-02-02T16:31:45.763091Z",
          "shell.execute_reply.started": "2024-02-02T16:31:45.236684Z",
          "shell.execute_reply": "2024-02-02T16:31:45.762097Z"
        },
        "trusted": true
      },
      "execution_count": null,
      "outputs": []
    },
    {
      "cell_type": "markdown",
      "source": [
        "## Percent 1"
      ],
      "metadata": {
        "id": "Cs0uyYxOt5-7"
      }
    },
    {
      "cell_type": "code",
      "source": [
        "model_1 = BertForClassification(bert_model)\n",
        "model_1 = nn.DataParallel(model_1).to(device)"
      ],
      "metadata": {
        "execution": {
          "iopub.status.busy": "2024-02-02T10:35:22.846576Z",
          "iopub.execute_input": "2024-02-02T10:35:22.846976Z",
          "iopub.status.idle": "2024-02-02T10:35:22.865372Z",
          "shell.execute_reply.started": "2024-02-02T10:35:22.846949Z",
          "shell.execute_reply": "2024-02-02T10:35:22.864647Z"
        },
        "trusted": true,
        "id": "9pzpbtjAt5-8"
      },
      "execution_count": null,
      "outputs": []
    },
    {
      "cell_type": "code",
      "source": [
        "train_loader_1 = create_dataset(0.01)"
      ],
      "metadata": {
        "execution": {
          "iopub.status.busy": "2024-02-02T10:35:27.849953Z",
          "iopub.execute_input": "2024-02-02T10:35:27.850320Z",
          "iopub.status.idle": "2024-02-02T10:35:27.902256Z",
          "shell.execute_reply.started": "2024-02-02T10:35:27.850289Z",
          "shell.execute_reply": "2024-02-02T10:35:27.901355Z"
        },
        "trusted": true,
        "id": "xiw6CYout5-8"
      },
      "execution_count": null,
      "outputs": []
    },
    {
      "cell_type": "code",
      "source": [
        "train_evaluate(model_1, train_loader_1, dev_dataloader, 10)"
      ],
      "metadata": {
        "execution": {
          "iopub.status.busy": "2024-02-02T10:35:30.242976Z",
          "iopub.execute_input": "2024-02-02T10:35:30.243337Z",
          "iopub.status.idle": "2024-02-02T10:55:37.658218Z",
          "shell.execute_reply.started": "2024-02-02T10:35:30.243310Z",
          "shell.execute_reply": "2024-02-02T10:55:37.657218Z"
        },
        "trusted": true,
        "colab": {
          "referenced_widgets": [
            "07bfea5dff644fa58a44b30ff7a93203",
            "fbcb99beb8294abc8e153ce748cdffb7",
            "75bfb29c933741c9af164b98148abb3a",
            "5706eda19386487383fc34114dfbc630",
            "77cc64763a4c4c5388bc499ec2d16d4c",
            "ee8ebb32beb044829a44191229376a65",
            "ecf64334ce4a42d7b87d8b3e5ac3520b",
            "1ba42fe1dc084f4c8dcff2e604651582",
            "cbcf79c4457546d8b0de8182b64f4e87",
            "e64720e8b19f4615bbecf750c9d137a3",
            "04be9679636f435ca4fc15f1146a5b13",
            "982c751fedeb4f08b96adccf2f967715",
            "6f762e5c98304d36998f3be5f8ddceac",
            "ab1950e3eadf47fd8805bc2b10fe170b",
            "0c58a85841d441df8702da44c383f72f",
            "a807f9f24c1a41daa4e3024a13f2955a",
            "5cc785db31cf46759497fad2f718903d",
            "d93f8d2b6047404f8753d19c63f5bab9",
            "f033190001194ee6a39a4f81514a0957",
            "a8ba647635dd463eb3ad3372c3bc8b5c"
          ]
        },
        "id": "uq1hZ_FZt5-9",
        "outputId": "8b4ed4f3-1fbe-47c6-a032-c3ae0b3dfc29"
      },
      "execution_count": null,
      "outputs": [
        {
          "name": "stdout",
          "text": "Epoch:  1\n",
          "output_type": "stream"
        },
        {
          "output_type": "display_data",
          "data": {
            "text/plain": "Training:   0%|          | 0/23 [00:00<?, ?it/s]",
            "application/vnd.jupyter.widget-view+json": {
              "version_major": 2,
              "version_minor": 0,
              "model_id": "07bfea5dff644fa58a44b30ff7a93203"
            }
          },
          "metadata": {}
        },
        {
          "output_type": "display_data",
          "data": {
            "text/plain": "Validation:   0%|          | 0/94 [00:00<?, ?it/s]",
            "application/vnd.jupyter.widget-view+json": {
              "version_major": 2,
              "version_minor": 0,
              "model_id": "fbcb99beb8294abc8e153ce748cdffb7"
            }
          },
          "metadata": {}
        },
        {
          "name": "stdout",
          "text": "Train Accuracy: 0.2161 \nTrain Loss: 1.7681 \nValidation Accuracy: 0.2600 \nValidation Loss: 1.7608 \n \nEpoch:  2\n",
          "output_type": "stream"
        },
        {
          "output_type": "display_data",
          "data": {
            "text/plain": "Training:   0%|          | 0/23 [00:00<?, ?it/s]",
            "application/vnd.jupyter.widget-view+json": {
              "version_major": 2,
              "version_minor": 0,
              "model_id": "75bfb29c933741c9af164b98148abb3a"
            }
          },
          "metadata": {}
        },
        {
          "output_type": "display_data",
          "data": {
            "text/plain": "Validation:   0%|          | 0/94 [00:00<?, ?it/s]",
            "application/vnd.jupyter.widget-view+json": {
              "version_major": 2,
              "version_minor": 0,
              "model_id": "5706eda19386487383fc34114dfbc630"
            }
          },
          "metadata": {}
        },
        {
          "name": "stdout",
          "text": "Train Accuracy: 0.3192 \nTrain Loss: 1.7260 \nValidation Accuracy: 0.3943 \nValidation Loss: 1.7050 \n \nEpoch:  3\n",
          "output_type": "stream"
        },
        {
          "output_type": "display_data",
          "data": {
            "text/plain": "Training:   0%|          | 0/23 [00:00<?, ?it/s]",
            "application/vnd.jupyter.widget-view+json": {
              "version_major": 2,
              "version_minor": 0,
              "model_id": "77cc64763a4c4c5388bc499ec2d16d4c"
            }
          },
          "metadata": {}
        },
        {
          "output_type": "display_data",
          "data": {
            "text/plain": "Validation:   0%|          | 0/94 [00:00<?, ?it/s]",
            "application/vnd.jupyter.widget-view+json": {
              "version_major": 2,
              "version_minor": 0,
              "model_id": "ee8ebb32beb044829a44191229376a65"
            }
          },
          "metadata": {}
        },
        {
          "name": "stdout",
          "text": "Train Accuracy: 0.3969 \nTrain Loss: 1.6941 \nValidation Accuracy: 0.4337 \nValidation Loss: 1.6721 \n \nEpoch:  4\n",
          "output_type": "stream"
        },
        {
          "output_type": "display_data",
          "data": {
            "text/plain": "Training:   0%|          | 0/23 [00:00<?, ?it/s]",
            "application/vnd.jupyter.widget-view+json": {
              "version_major": 2,
              "version_minor": 0,
              "model_id": "ecf64334ce4a42d7b87d8b3e5ac3520b"
            }
          },
          "metadata": {}
        },
        {
          "output_type": "display_data",
          "data": {
            "text/plain": "Validation:   0%|          | 0/94 [00:00<?, ?it/s]",
            "application/vnd.jupyter.widget-view+json": {
              "version_major": 2,
              "version_minor": 0,
              "model_id": "1ba42fe1dc084f4c8dcff2e604651582"
            }
          },
          "metadata": {}
        },
        {
          "name": "stdout",
          "text": "Train Accuracy: 0.4506 \nTrain Loss: 1.6625 \nValidation Accuracy: 0.4420 \nValidation Loss: 1.6455 \n \nEpoch:  5\n",
          "output_type": "stream"
        },
        {
          "output_type": "display_data",
          "data": {
            "text/plain": "Training:   0%|          | 0/23 [00:00<?, ?it/s]",
            "application/vnd.jupyter.widget-view+json": {
              "version_major": 2,
              "version_minor": 0,
              "model_id": "cbcf79c4457546d8b0de8182b64f4e87"
            }
          },
          "metadata": {}
        },
        {
          "output_type": "display_data",
          "data": {
            "text/plain": "Validation:   0%|          | 0/94 [00:00<?, ?it/s]",
            "application/vnd.jupyter.widget-view+json": {
              "version_major": 2,
              "version_minor": 0,
              "model_id": "e64720e8b19f4615bbecf750c9d137a3"
            }
          },
          "metadata": {}
        },
        {
          "name": "stdout",
          "text": "Train Accuracy: 0.4986 \nTrain Loss: 1.6302 \nValidation Accuracy: 0.4720 \nValidation Loss: 1.6076 \n \nEpoch:  6\n",
          "output_type": "stream"
        },
        {
          "output_type": "display_data",
          "data": {
            "text/plain": "Training:   0%|          | 0/23 [00:00<?, ?it/s]",
            "application/vnd.jupyter.widget-view+json": {
              "version_major": 2,
              "version_minor": 0,
              "model_id": "04be9679636f435ca4fc15f1146a5b13"
            }
          },
          "metadata": {}
        },
        {
          "output_type": "display_data",
          "data": {
            "text/plain": "Validation:   0%|          | 0/94 [00:00<?, ?it/s]",
            "application/vnd.jupyter.widget-view+json": {
              "version_major": 2,
              "version_minor": 0,
              "model_id": "982c751fedeb4f08b96adccf2f967715"
            }
          },
          "metadata": {}
        },
        {
          "name": "stdout",
          "text": "Train Accuracy: 0.5000 \nTrain Loss: 1.6024 \nValidation Accuracy: 0.4887 \nValidation Loss: 1.5793 \n \nEpoch:  7\n",
          "output_type": "stream"
        },
        {
          "output_type": "display_data",
          "data": {
            "text/plain": "Training:   0%|          | 0/23 [00:00<?, ?it/s]",
            "application/vnd.jupyter.widget-view+json": {
              "version_major": 2,
              "version_minor": 0,
              "model_id": "6f762e5c98304d36998f3be5f8ddceac"
            }
          },
          "metadata": {}
        },
        {
          "output_type": "display_data",
          "data": {
            "text/plain": "Validation:   0%|          | 0/94 [00:00<?, ?it/s]",
            "application/vnd.jupyter.widget-view+json": {
              "version_major": 2,
              "version_minor": 0,
              "model_id": "ab1950e3eadf47fd8805bc2b10fe170b"
            }
          },
          "metadata": {}
        },
        {
          "name": "stdout",
          "text": "Train Accuracy: 0.5212 \nTrain Loss: 1.5693 \nValidation Accuracy: 0.5003 \nValidation Loss: 1.5531 \n \nEpoch:  8\n",
          "output_type": "stream"
        },
        {
          "output_type": "display_data",
          "data": {
            "text/plain": "Training:   0%|          | 0/23 [00:00<?, ?it/s]",
            "application/vnd.jupyter.widget-view+json": {
              "version_major": 2,
              "version_minor": 0,
              "model_id": "0c58a85841d441df8702da44c383f72f"
            }
          },
          "metadata": {}
        },
        {
          "output_type": "display_data",
          "data": {
            "text/plain": "Validation:   0%|          | 0/94 [00:00<?, ?it/s]",
            "application/vnd.jupyter.widget-view+json": {
              "version_major": 2,
              "version_minor": 0,
              "model_id": "a807f9f24c1a41daa4e3024a13f2955a"
            }
          },
          "metadata": {}
        },
        {
          "name": "stdout",
          "text": "Train Accuracy: 0.5381 \nTrain Loss: 1.5296 \nValidation Accuracy: 0.5477 \nValidation Loss: 1.5230 \n \nEpoch:  9\n",
          "output_type": "stream"
        },
        {
          "output_type": "display_data",
          "data": {
            "text/plain": "Training:   0%|          | 0/23 [00:00<?, ?it/s]",
            "application/vnd.jupyter.widget-view+json": {
              "version_major": 2,
              "version_minor": 0,
              "model_id": "5cc785db31cf46759497fad2f718903d"
            }
          },
          "metadata": {}
        },
        {
          "output_type": "display_data",
          "data": {
            "text/plain": "Validation:   0%|          | 0/94 [00:00<?, ?it/s]",
            "application/vnd.jupyter.widget-view+json": {
              "version_major": 2,
              "version_minor": 0,
              "model_id": "d93f8d2b6047404f8753d19c63f5bab9"
            }
          },
          "metadata": {}
        },
        {
          "name": "stdout",
          "text": "Train Accuracy: 0.5819 \nTrain Loss: 1.5040 \nValidation Accuracy: 0.5550 \nValidation Loss: 1.5051 \n \nEpoch:  10\n",
          "output_type": "stream"
        },
        {
          "output_type": "display_data",
          "data": {
            "text/plain": "Training:   0%|          | 0/23 [00:00<?, ?it/s]",
            "application/vnd.jupyter.widget-view+json": {
              "version_major": 2,
              "version_minor": 0,
              "model_id": "f033190001194ee6a39a4f81514a0957"
            }
          },
          "metadata": {}
        },
        {
          "output_type": "display_data",
          "data": {
            "text/plain": "Validation:   0%|          | 0/94 [00:00<?, ?it/s]",
            "application/vnd.jupyter.widget-view+json": {
              "version_major": 2,
              "version_minor": 0,
              "model_id": "a8ba647635dd463eb3ad3372c3bc8b5c"
            }
          },
          "metadata": {}
        },
        {
          "name": "stdout",
          "text": "Train Accuracy: 0.6003 \nTrain Loss: 1.4794 \nValidation Accuracy: 0.5473 \nValidation Loss: 1.4761 \n \nTraining and evaluation time: 0:20:07 \n",
          "output_type": "stream"
        }
      ]
    },
    {
      "cell_type": "code",
      "source": [
        "valid_loss, valid_acc, valid_pred_1, valid_labels = evaluate(model_1, dev_dataloader, return_pred_labels=True)"
      ],
      "metadata": {
        "execution": {
          "iopub.status.busy": "2024-02-02T10:56:01.728797Z",
          "iopub.execute_input": "2024-02-02T10:56:01.729874Z",
          "iopub.status.idle": "2024-02-02T10:57:19.871355Z",
          "shell.execute_reply.started": "2024-02-02T10:56:01.729832Z",
          "shell.execute_reply": "2024-02-02T10:57:19.870492Z"
        },
        "trusted": true,
        "colab": {
          "referenced_widgets": [
            "3d3d2cc8673e4198a19b767bf0baf007"
          ]
        },
        "id": "CtbhOPPXt5-9",
        "outputId": "8a288fbd-3019-467c-9ed7-05100c92f78d"
      },
      "execution_count": null,
      "outputs": [
        {
          "output_type": "display_data",
          "data": {
            "text/plain": "Validation:   0%|          | 0/94 [00:00<?, ?it/s]",
            "application/vnd.jupyter.widget-view+json": {
              "version_major": 2,
              "version_minor": 0,
              "model_id": "3d3d2cc8673e4198a19b767bf0baf007"
            }
          },
          "metadata": {}
        }
      ]
    },
    {
      "cell_type": "code",
      "source": [
        "from sklearn.metrics import classification_report\n",
        "import torch\n",
        "from sklearn.metrics import accuracy_score\n",
        "\n",
        "accuracy = accuracy_score(valid_labels, valid_pred_1)\n",
        "print(f\"Validation Accuracy: {accuracy}\")\n",
        "\n",
        "# label_names = [f\"Class {label}\" for label in valid_labels]\n",
        "\n",
        "# Now generate the classification report\n",
        "print('Classification Report:')\n",
        "print(classification_report(valid_pred_1, valid_labels,))"
      ],
      "metadata": {
        "colab": {
          "base_uri": "https://localhost:8080/"
        },
        "id": "YMF1uKmIx_FZ",
        "outputId": "ccbe1859-6e35-4aee-a77d-f7a668a0d789",
        "execution": {
          "iopub.status.busy": "2024-02-02T11:00:21.157477Z",
          "iopub.execute_input": "2024-02-02T11:00:21.158316Z",
          "iopub.status.idle": "2024-02-02T11:00:21.175692Z",
          "shell.execute_reply.started": "2024-02-02T11:00:21.158286Z",
          "shell.execute_reply": "2024-02-02T11:00:21.174740Z"
        },
        "trusted": true
      },
      "execution_count": null,
      "outputs": [
        {
          "name": "stdout",
          "text": "Validation Accuracy: 0.5473333333333333\nClassification Report:\n              precision    recall  f1-score   support\n\n           0       0.58      0.61      0.60       481\n           1       0.16      0.68      0.26       117\n           2       0.86      0.34      0.49      1277\n           3       0.00      0.00      0.00        49\n           4       0.82      0.73      0.77       562\n           5       0.86      0.84      0.85       514\n\n    accuracy                           0.55      3000\n   macro avg       0.55      0.53      0.49      3000\nweighted avg       0.77      0.55      0.60      3000\n\n",
          "output_type": "stream"
        }
      ]
    },
    {
      "cell_type": "code",
      "source": [
        "from sklearn.metrics import ConfusionMatrixDisplay, confusion_matrix\n",
        "\n",
        "def plot_confusion_matrix(y_preds, y_true, labels=None):\n",
        "  cm = confusion_matrix(y_true, y_preds, normalize=\"true\")\n",
        "  fig, ax = plt.subplots(figsize=(6, 6))\n",
        "  disp = ConfusionMatrixDisplay(confusion_matrix=cm, display_labels=labels)\n",
        "  disp.plot(cmap=\"Blues\", values_format=\".2f\", ax=ax, colorbar=False)\n",
        "  plt.title(\"Normalized confusion matrix\")\n",
        "  plt.show()"
      ],
      "metadata": {
        "id": "brkjwaNJzRJj",
        "execution": {
          "iopub.status.busy": "2024-02-02T11:00:26.627428Z",
          "iopub.execute_input": "2024-02-02T11:00:26.628506Z",
          "iopub.status.idle": "2024-02-02T11:00:26.635159Z",
          "shell.execute_reply.started": "2024-02-02T11:00:26.628462Z",
          "shell.execute_reply": "2024-02-02T11:00:26.634145Z"
        },
        "trusted": true
      },
      "execution_count": null,
      "outputs": []
    },
    {
      "cell_type": "code",
      "source": [
        "plot_confusion_matrix(valid_pred_1, valid_labels)"
      ],
      "metadata": {
        "colab": {
          "base_uri": "https://localhost:8080/",
          "height": 564
        },
        "id": "gqYJHsKEzVJD",
        "outputId": "b0209fd9-9362-4524-fe86-c917eaaf7e55",
        "execution": {
          "iopub.status.busy": "2024-02-02T11:00:29.160285Z",
          "iopub.execute_input": "2024-02-02T11:00:29.160921Z",
          "iopub.status.idle": "2024-02-02T11:00:29.400244Z",
          "shell.execute_reply.started": "2024-02-02T11:00:29.160893Z",
          "shell.execute_reply": "2024-02-02T11:00:29.399340Z"
        },
        "trusted": true
      },
      "execution_count": null,
      "outputs": [
        {
          "output_type": "display_data",
          "data": {
            "text/plain": "<Figure size 600x600 with 1 Axes>",
            "image/png": "[encoded data removed]"
          },
          "metadata": {}
        }
      ]
    },
    {
      "cell_type": "code",
      "source": [
        "with open('valid_1.txt', 'wb') as f:\n",
        "    np.save(f, np.array(valid_pred_1))"
      ],
      "metadata": {
        "execution": {
          "iopub.status.busy": "2024-02-02T11:00:45.926940Z",
          "iopub.execute_input": "2024-02-02T11:00:45.927315Z",
          "iopub.status.idle": "2024-02-02T11:00:45.932626Z",
          "shell.execute_reply.started": "2024-02-02T11:00:45.927289Z",
          "shell.execute_reply": "2024-02-02T11:00:45.931682Z"
        },
        "trusted": true,
        "id": "OKt0BptUt5-_"
      },
      "execution_count": null,
      "outputs": []
    },
    {
      "cell_type": "markdown",
      "source": [
        "## Percent 5"
      ],
      "metadata": {
        "id": "_1Xk_Gt8t5-_"
      }
    },
    {
      "cell_type": "code",
      "source": [
        "model_5 = BertForClassification(bert_model)\n",
        "model_5 = nn.DataParallel(model_5).to(device)"
      ],
      "metadata": {
        "execution": {
          "iopub.status.busy": "2024-02-02T11:52:33.384000Z",
          "iopub.execute_input": "2024-02-02T11:52:33.384387Z",
          "iopub.status.idle": "2024-02-02T11:52:33.403682Z",
          "shell.execute_reply.started": "2024-02-02T11:52:33.384358Z",
          "shell.execute_reply": "2024-02-02T11:52:33.402937Z"
        },
        "trusted": true,
        "id": "K_O0xfo_t5-_"
      },
      "execution_count": null,
      "outputs": []
    },
    {
      "cell_type": "code",
      "source": [
        "train_loader_5 = create_dataset(0.05)"
      ],
      "metadata": {
        "execution": {
          "iopub.status.busy": "2024-02-02T11:52:34.500909Z",
          "iopub.execute_input": "2024-02-02T11:52:34.501270Z",
          "iopub.status.idle": "2024-02-02T11:52:34.563436Z",
          "shell.execute_reply.started": "2024-02-02T11:52:34.501244Z",
          "shell.execute_reply": "2024-02-02T11:52:34.562606Z"
        },
        "trusted": true,
        "id": "AMYEPTtIt5-_"
      },
      "execution_count": null,
      "outputs": []
    },
    {
      "cell_type": "code",
      "source": [
        "train_evaluate(model_5, train_loader_5, dev_dataloader, 7)"
      ],
      "metadata": {
        "execution": {
          "iopub.status.busy": "2024-02-02T11:52:36.740313Z",
          "iopub.execute_input": "2024-02-02T11:52:36.740736Z",
          "iopub.status.idle": "2024-02-02T12:27:32.279281Z",
          "shell.execute_reply.started": "2024-02-02T11:52:36.740704Z",
          "shell.execute_reply": "2024-02-02T12:27:32.278332Z"
        },
        "trusted": true,
        "colab": {
          "referenced_widgets": [
            "bfa35c8ccf344b5b9214b3acbdba2591",
            "a2637eea78fd49eb9e9848b15ff9f1c4",
            "47f97cdec9f44a46bcd079eda51b8ed4",
            "13f607d135cf4d219c12824a035d34d5",
            "3e9026bc683147a89f4ccb269ff5bb1f",
            "1dd2dfc49d544fc683540f376a82add3",
            "30a56164432c4f5eb985b7dea7967121",
            "aa4009fb9d4d43b98789c29b11af6580",
            "9b3f0c997fba4e648f0a656c41c78ca1",
            "3812f1475b92490f8d27bf1f51e344ae",
            "c5d266a1fbc14507b3c69c4292c7b0b7",
            "17268d38e6f74dff850969b6e661b0ba",
            "dec52bd463644885a282dd5b0ff3b26b",
            "6f5bb59277824a9d85629893fdd50410"
          ]
        },
        "id": "voy4TSfkt5-_",
        "outputId": "30e6b054-3bc7-49ba-8614-c75c8aceb759"
      },
      "execution_count": null,
      "outputs": [
        {
          "name": "stdout",
          "text": "Epoch:  1\n",
          "output_type": "stream"
        },
        {
          "output_type": "display_data",
          "data": {
            "text/plain": "Training:   0%|          | 0/111 [00:00<?, ?it/s]",
            "application/vnd.jupyter.widget-view+json": {
              "version_major": 2,
              "version_minor": 0,
              "model_id": "bfa35c8ccf344b5b9214b3acbdba2591"
            }
          },
          "metadata": {}
        },
        {
          "output_type": "display_data",
          "data": {
            "text/plain": "Validation:   0%|          | 0/94 [00:00<?, ?it/s]",
            "application/vnd.jupyter.widget-view+json": {
              "version_major": 2,
              "version_minor": 0,
              "model_id": "a2637eea78fd49eb9e9848b15ff9f1c4"
            }
          },
          "metadata": {}
        },
        {
          "name": "stdout",
          "text": "Train Accuracy: 0.7321 \nTrain Loss: 1.4060 \nValidation Accuracy: 0.5107 \nValidation Loss: 1.4235 \n \nEpoch:  2\n",
          "output_type": "stream"
        },
        {
          "output_type": "display_data",
          "data": {
            "text/plain": "Training:   0%|          | 0/111 [00:00<?, ?it/s]",
            "application/vnd.jupyter.widget-view+json": {
              "version_major": 2,
              "version_minor": 0,
              "model_id": "47f97cdec9f44a46bcd079eda51b8ed4"
            }
          },
          "metadata": {}
        },
        {
          "output_type": "display_data",
          "data": {
            "text/plain": "Validation:   0%|          | 0/94 [00:00<?, ?it/s]",
            "application/vnd.jupyter.widget-view+json": {
              "version_major": 2,
              "version_minor": 0,
              "model_id": "13f607d135cf4d219c12824a035d34d5"
            }
          },
          "metadata": {}
        },
        {
          "name": "stdout",
          "text": "Train Accuracy: 0.8875 \nTrain Loss: 0.9526 \nValidation Accuracy: 0.6010 \nValidation Loss: 1.2150 \n \nEpoch:  3\n",
          "output_type": "stream"
        },
        {
          "output_type": "display_data",
          "data": {
            "text/plain": "Training:   0%|          | 0/111 [00:00<?, ?it/s]",
            "application/vnd.jupyter.widget-view+json": {
              "version_major": 2,
              "version_minor": 0,
              "model_id": "3e9026bc683147a89f4ccb269ff5bb1f"
            }
          },
          "metadata": {}
        },
        {
          "output_type": "display_data",
          "data": {
            "text/plain": "Validation:   0%|          | 0/94 [00:00<?, ?it/s]",
            "application/vnd.jupyter.widget-view+json": {
              "version_major": 2,
              "version_minor": 0,
              "model_id": "1dd2dfc49d544fc683540f376a82add3"
            }
          },
          "metadata": {}
        },
        {
          "name": "stdout",
          "text": "Train Accuracy: 0.8999 \nTrain Loss: 0.7201 \nValidation Accuracy: 0.5360 \nValidation Loss: 1.3435 \n \nEpoch:  4\n",
          "output_type": "stream"
        },
        {
          "output_type": "display_data",
          "data": {
            "text/plain": "Training:   0%|          | 0/111 [00:00<?, ?it/s]",
            "application/vnd.jupyter.widget-view+json": {
              "version_major": 2,
              "version_minor": 0,
              "model_id": "30a56164432c4f5eb985b7dea7967121"
            }
          },
          "metadata": {}
        },
        {
          "output_type": "display_data",
          "data": {
            "text/plain": "Validation:   0%|          | 0/94 [00:00<?, ?it/s]",
            "application/vnd.jupyter.widget-view+json": {
              "version_major": 2,
              "version_minor": 0,
              "model_id": "aa4009fb9d4d43b98789c29b11af6580"
            }
          },
          "metadata": {}
        },
        {
          "name": "stdout",
          "text": "Train Accuracy: 0.9222 \nTrain Loss: 0.5614 \nValidation Accuracy: 0.6030 \nValidation Loss: 1.1865 \n \nEpoch:  5\n",
          "output_type": "stream"
        },
        {
          "output_type": "display_data",
          "data": {
            "text/plain": "Training:   0%|          | 0/111 [00:00<?, ?it/s]",
            "application/vnd.jupyter.widget-view+json": {
              "version_major": 2,
              "version_minor": 0,
              "model_id": "9b3f0c997fba4e648f0a656c41c78ca1"
            }
          },
          "metadata": {}
        },
        {
          "output_type": "display_data",
          "data": {
            "text/plain": "Validation:   0%|          | 0/94 [00:00<?, ?it/s]",
            "application/vnd.jupyter.widget-view+json": {
              "version_major": 2,
              "version_minor": 0,
              "model_id": "3812f1475b92490f8d27bf1f51e344ae"
            }
          },
          "metadata": {}
        },
        {
          "name": "stdout",
          "text": "Train Accuracy: 0.9284 \nTrain Loss: 0.4630 \nValidation Accuracy: 0.5863 \nValidation Loss: 1.2758 \n \nEpoch:  6\n",
          "output_type": "stream"
        },
        {
          "output_type": "display_data",
          "data": {
            "text/plain": "Training:   0%|          | 0/111 [00:00<?, ?it/s]",
            "application/vnd.jupyter.widget-view+json": {
              "version_major": 2,
              "version_minor": 0,
              "model_id": "c5d266a1fbc14507b3c69c4292c7b0b7"
            }
          },
          "metadata": {}
        },
        {
          "output_type": "display_data",
          "data": {
            "text/plain": "Validation:   0%|          | 0/94 [00:00<?, ?it/s]",
            "application/vnd.jupyter.widget-view+json": {
              "version_major": 2,
              "version_minor": 0,
              "model_id": "17268d38e6f74dff850969b6e661b0ba"
            }
          },
          "metadata": {}
        },
        {
          "name": "stdout",
          "text": "Train Accuracy: 0.9433 \nTrain Loss: 0.3842 \nValidation Accuracy: 0.6187 \nValidation Loss: 1.2389 \n \nEpoch:  7\n",
          "output_type": "stream"
        },
        {
          "output_type": "display_data",
          "data": {
            "text/plain": "Training:   0%|          | 0/111 [00:00<?, ?it/s]",
            "application/vnd.jupyter.widget-view+json": {
              "version_major": 2,
              "version_minor": 0,
              "model_id": "dec52bd463644885a282dd5b0ff3b26b"
            }
          },
          "metadata": {}
        },
        {
          "output_type": "display_data",
          "data": {
            "text/plain": "Validation:   0%|          | 0/94 [00:00<?, ?it/s]",
            "application/vnd.jupyter.widget-view+json": {
              "version_major": 2,
              "version_minor": 0,
              "model_id": "6f5bb59277824a9d85629893fdd50410"
            }
          },
          "metadata": {}
        },
        {
          "name": "stdout",
          "text": "Train Accuracy: 0.9521 \nTrain Loss: 0.3238 \nValidation Accuracy: 0.6010 \nValidation Loss: 1.2904 \n \nTraining and evaluation time: 0:34:56 \n",
          "output_type": "stream"
        }
      ]
    },
    {
      "cell_type": "code",
      "source": [
        "valid_loss, valid_acc, valid_pred_5, valid_labels = evaluate(model_5, dev_dataloader, return_pred_labels=True)"
      ],
      "metadata": {
        "execution": {
          "iopub.status.busy": "2024-02-02T12:29:30.733588Z",
          "iopub.execute_input": "2024-02-02T12:29:30.733966Z",
          "iopub.status.idle": "2024-02-02T12:30:52.810591Z",
          "shell.execute_reply.started": "2024-02-02T12:29:30.733936Z",
          "shell.execute_reply": "2024-02-02T12:30:52.809667Z"
        },
        "trusted": true,
        "colab": {
          "referenced_widgets": [
            "9c44b3d8a46942c7accdbdadbaeba3e3"
          ]
        },
        "id": "vKaAqcqFt5-_",
        "outputId": "c2f9594e-84c0-4cfd-8b4c-98f0d81874bc"
      },
      "execution_count": null,
      "outputs": [
        {
          "output_type": "display_data",
          "data": {
            "text/plain": "Validation:   0%|          | 0/94 [00:00<?, ?it/s]",
            "application/vnd.jupyter.widget-view+json": {
              "version_major": 2,
              "version_minor": 0,
              "model_id": "9c44b3d8a46942c7accdbdadbaeba3e3"
            }
          },
          "metadata": {}
        }
      ]
    },
    {
      "cell_type": "code",
      "source": [
        "accuracy = accuracy_score(valid_labels, valid_pred_5)\n",
        "print(f\"Validation Accuracy: {accuracy}\")\n",
        "\n",
        "# Now generate the classification report\n",
        "print('Classification Report:')\n",
        "print(classification_report(valid_pred_5, valid_labels,))"
      ],
      "metadata": {
        "execution": {
          "iopub.status.busy": "2024-02-02T12:31:08.495794Z",
          "iopub.execute_input": "2024-02-02T12:31:08.496502Z",
          "iopub.status.idle": "2024-02-02T12:31:08.512358Z",
          "shell.execute_reply.started": "2024-02-02T12:31:08.496472Z",
          "shell.execute_reply": "2024-02-02T12:31:08.511365Z"
        },
        "trusted": true,
        "id": "9YGYcqxct5-_",
        "outputId": "667d24ac-fefa-4392-80c2-d0bbcfd1aa20"
      },
      "execution_count": null,
      "outputs": [
        {
          "name": "stdout",
          "text": "Validation Accuracy: 0.601\nClassification Report:\n              precision    recall  f1-score   support\n\n           0       0.39      0.92      0.55       213\n           1       0.72      0.72      0.72       502\n           2       0.89      0.43      0.58      1033\n           3       0.05      0.08      0.06       324\n           4       0.96      0.86      0.91       558\n           5       0.59      0.79      0.68       370\n\n    accuracy                           0.60      3000\n   macro avg       0.60      0.63      0.58      3000\nweighted avg       0.71      0.60      0.62      3000\n\n",
          "output_type": "stream"
        }
      ]
    },
    {
      "cell_type": "code",
      "source": [
        "plot_confusion_matrix(valid_pred_5, valid_labels)"
      ],
      "metadata": {
        "execution": {
          "iopub.status.busy": "2024-02-02T12:31:11.221763Z",
          "iopub.execute_input": "2024-02-02T12:31:11.222649Z",
          "iopub.status.idle": "2024-02-02T12:31:11.443651Z",
          "shell.execute_reply.started": "2024-02-02T12:31:11.222620Z",
          "shell.execute_reply": "2024-02-02T12:31:11.442769Z"
        },
        "trusted": true,
        "id": "koRZVV0it5_A",
        "outputId": "46ed0e80-690e-48b7-b476-a451263f8f7d"
      },
      "execution_count": null,
      "outputs": [
        {
          "output_type": "display_data",
          "data": {
            "text/plain": "<Figure size 600x600 with 1 Axes>",
            "image/png": "[encoded data removed]"
          },
          "metadata": {}
        }
      ]
    },
    {
      "cell_type": "code",
      "source": [
        "with open('valid_5.txt', 'wb') as f:\n",
        "    np.save(f, np.array(valid_pred_5))"
      ],
      "metadata": {
        "execution": {
          "iopub.status.busy": "2024-02-02T12:31:25.826791Z",
          "iopub.execute_input": "2024-02-02T12:31:25.827423Z",
          "iopub.status.idle": "2024-02-02T12:31:25.832597Z",
          "shell.execute_reply.started": "2024-02-02T12:31:25.827391Z",
          "shell.execute_reply": "2024-02-02T12:31:25.831595Z"
        },
        "trusted": true,
        "id": "my6pTIK8t5_A"
      },
      "execution_count": null,
      "outputs": []
    },
    {
      "cell_type": "markdown",
      "source": [
        "## Percent 10"
      ],
      "metadata": {
        "id": "TUMhvRCKt5_A"
      }
    },
    {
      "cell_type": "code",
      "source": [
        "model_10 = BertForClassification(bert_model)\n",
        "model_10 = nn.DataParallel(model_10).to(device)"
      ],
      "metadata": {
        "execution": {
          "iopub.status.busy": "2024-02-02T12:31:37.446700Z",
          "iopub.execute_input": "2024-02-02T12:31:37.447071Z",
          "iopub.status.idle": "2024-02-02T12:31:37.465132Z",
          "shell.execute_reply.started": "2024-02-02T12:31:37.447043Z",
          "shell.execute_reply": "2024-02-02T12:31:37.464191Z"
        },
        "trusted": true,
        "id": "V6kyr4Qnt5_B"
      },
      "execution_count": null,
      "outputs": []
    },
    {
      "cell_type": "code",
      "source": [
        "train_loader_10 = create_dataset(0.1)"
      ],
      "metadata": {
        "execution": {
          "iopub.status.busy": "2024-02-02T12:31:39.127062Z",
          "iopub.execute_input": "2024-02-02T12:31:39.127421Z",
          "iopub.status.idle": "2024-02-02T12:31:39.195657Z",
          "shell.execute_reply.started": "2024-02-02T12:31:39.127394Z",
          "shell.execute_reply": "2024-02-02T12:31:39.194816Z"
        },
        "trusted": true,
        "id": "pIXFuyGZt5_B"
      },
      "execution_count": null,
      "outputs": []
    },
    {
      "cell_type": "code",
      "source": [
        "train_evaluate(model_10, train_loader_10, dev_dataloader, 7)"
      ],
      "metadata": {
        "execution": {
          "iopub.status.busy": "2024-02-02T12:31:44.058160Z",
          "iopub.execute_input": "2024-02-02T12:31:44.058532Z",
          "iopub.status.idle": "2024-02-02T13:31:57.292314Z",
          "shell.execute_reply.started": "2024-02-02T12:31:44.058501Z",
          "shell.execute_reply": "2024-02-02T13:31:57.291412Z"
        },
        "trusted": true,
        "colab": {
          "referenced_widgets": [
            "59496d108aeb40738ca44a3541b72a3f",
            "e45b8f52123945e88364b7c32f6f5e34",
            "978655d520244eb78fed805ecab0253e",
            "e5bc12374cb64fa398aa744b7e0597c5",
            "9651236907e74d66ad3ef6d603e2c82f",
            "bc542e163311450d80a863f3290d93a0",
            "9c6b44459c6245f49d31ca8603d60f42",
            "6576efe620874fa1864f905681680484",
            "c1a7e58f8a0047228dfe2f90cc4c4273",
            "984b70325fca4b339267435fd5d19597",
            "b8e88465cb0b4e678472ec402a65bc9a",
            "72b677958aca432d90098cfed4446771",
            "dda53e47cdad410d888e7a7fdce9350b",
            "875424acfa1448eb9ad06a312a791512"
          ]
        },
        "id": "5KLLM3fCt5_B",
        "outputId": "c2b0ce3f-1eb8-4f89-81e9-a6ac8cb1d50c"
      },
      "execution_count": null,
      "outputs": [
        {
          "name": "stdout",
          "text": "Epoch:  1\n",
          "output_type": "stream"
        },
        {
          "output_type": "display_data",
          "data": {
            "text/plain": "Training:   0%|          | 0/222 [00:00<?, ?it/s]",
            "application/vnd.jupyter.widget-view+json": {
              "version_major": 2,
              "version_minor": 0,
              "model_id": "59496d108aeb40738ca44a3541b72a3f"
            }
          },
          "metadata": {}
        },
        {
          "output_type": "display_data",
          "data": {
            "text/plain": "Validation:   0%|          | 0/94 [00:00<?, ?it/s]",
            "application/vnd.jupyter.widget-view+json": {
              "version_major": 2,
              "version_minor": 0,
              "model_id": "e45b8f52123945e88364b7c32f6f5e34"
            }
          },
          "metadata": {}
        },
        {
          "name": "stdout",
          "text": "Train Accuracy: 0.8567 \nTrain Loss: 1.0921 \nValidation Accuracy: 0.6270 \nValidation Loss: 1.1494 \n \nEpoch:  2\n",
          "output_type": "stream"
        },
        {
          "output_type": "display_data",
          "data": {
            "text/plain": "Training:   0%|          | 0/222 [00:00<?, ?it/s]",
            "application/vnd.jupyter.widget-view+json": {
              "version_major": 2,
              "version_minor": 0,
              "model_id": "978655d520244eb78fed805ecab0253e"
            }
          },
          "metadata": {}
        },
        {
          "output_type": "display_data",
          "data": {
            "text/plain": "Validation:   0%|          | 0/94 [00:00<?, ?it/s]",
            "application/vnd.jupyter.widget-view+json": {
              "version_major": 2,
              "version_minor": 0,
              "model_id": "e5bc12374cb64fa398aa744b7e0597c5"
            }
          },
          "metadata": {}
        },
        {
          "name": "stdout",
          "text": "Train Accuracy: 0.9232 \nTrain Loss: 0.5631 \nValidation Accuracy: 0.6283 \nValidation Loss: 1.0932 \n \nEpoch:  3\n",
          "output_type": "stream"
        },
        {
          "output_type": "display_data",
          "data": {
            "text/plain": "Training:   0%|          | 0/222 [00:00<?, ?it/s]",
            "application/vnd.jupyter.widget-view+json": {
              "version_major": 2,
              "version_minor": 0,
              "model_id": "9651236907e74d66ad3ef6d603e2c82f"
            }
          },
          "metadata": {}
        },
        {
          "output_type": "display_data",
          "data": {
            "text/plain": "Validation:   0%|          | 0/94 [00:00<?, ?it/s]",
            "application/vnd.jupyter.widget-view+json": {
              "version_major": 2,
              "version_minor": 0,
              "model_id": "bc542e163311450d80a863f3290d93a0"
            }
          },
          "metadata": {}
        },
        {
          "name": "stdout",
          "text": "Train Accuracy: 0.9376 \nTrain Loss: 0.3822 \nValidation Accuracy: 0.5847 \nValidation Loss: 1.2636 \n \nEpoch:  4\n",
          "output_type": "stream"
        },
        {
          "output_type": "display_data",
          "data": {
            "text/plain": "Training:   0%|          | 0/222 [00:00<?, ?it/s]",
            "application/vnd.jupyter.widget-view+json": {
              "version_major": 2,
              "version_minor": 0,
              "model_id": "9c6b44459c6245f49d31ca8603d60f42"
            }
          },
          "metadata": {}
        },
        {
          "output_type": "display_data",
          "data": {
            "text/plain": "Validation:   0%|          | 0/94 [00:00<?, ?it/s]",
            "application/vnd.jupyter.widget-view+json": {
              "version_major": 2,
              "version_minor": 0,
              "model_id": "6576efe620874fa1864f905681680484"
            }
          },
          "metadata": {}
        },
        {
          "name": "stdout",
          "text": "Train Accuracy: 0.9511 \nTrain Loss: 0.2884 \nValidation Accuracy: 0.6160 \nValidation Loss: 1.2003 \n \nEpoch:  5\n",
          "output_type": "stream"
        },
        {
          "output_type": "display_data",
          "data": {
            "text/plain": "Training:   0%|          | 0/222 [00:00<?, ?it/s]",
            "application/vnd.jupyter.widget-view+json": {
              "version_major": 2,
              "version_minor": 0,
              "model_id": "c1a7e58f8a0047228dfe2f90cc4c4273"
            }
          },
          "metadata": {}
        },
        {
          "output_type": "display_data",
          "data": {
            "text/plain": "Validation:   0%|          | 0/94 [00:00<?, ?it/s]",
            "application/vnd.jupyter.widget-view+json": {
              "version_major": 2,
              "version_minor": 0,
              "model_id": "984b70325fca4b339267435fd5d19597"
            }
          },
          "metadata": {}
        },
        {
          "name": "stdout",
          "text": "Train Accuracy: 0.9597 \nTrain Loss: 0.2281 \nValidation Accuracy: 0.6290 \nValidation Loss: 1.2364 \n \nEpoch:  6\n",
          "output_type": "stream"
        },
        {
          "output_type": "display_data",
          "data": {
            "text/plain": "Training:   0%|          | 0/222 [00:00<?, ?it/s]",
            "application/vnd.jupyter.widget-view+json": {
              "version_major": 2,
              "version_minor": 0,
              "model_id": "b8e88465cb0b4e678472ec402a65bc9a"
            }
          },
          "metadata": {}
        },
        {
          "output_type": "display_data",
          "data": {
            "text/plain": "Validation:   0%|          | 0/94 [00:00<?, ?it/s]",
            "application/vnd.jupyter.widget-view+json": {
              "version_major": 2,
              "version_minor": 0,
              "model_id": "72b677958aca432d90098cfed4446771"
            }
          },
          "metadata": {}
        },
        {
          "name": "stdout",
          "text": "Train Accuracy: 0.9645 \nTrain Loss: 0.1906 \nValidation Accuracy: 0.6063 \nValidation Loss: 1.3818 \n \nEpoch:  7\n",
          "output_type": "stream"
        },
        {
          "output_type": "display_data",
          "data": {
            "text/plain": "Training:   0%|          | 0/222 [00:00<?, ?it/s]",
            "application/vnd.jupyter.widget-view+json": {
              "version_major": 2,
              "version_minor": 0,
              "model_id": "dda53e47cdad410d888e7a7fdce9350b"
            }
          },
          "metadata": {}
        },
        {
          "output_type": "display_data",
          "data": {
            "text/plain": "Validation:   0%|          | 0/94 [00:00<?, ?it/s]",
            "application/vnd.jupyter.widget-view+json": {
              "version_major": 2,
              "version_minor": 0,
              "model_id": "875424acfa1448eb9ad06a312a791512"
            }
          },
          "metadata": {}
        },
        {
          "name": "stdout",
          "text": "Train Accuracy: 0.9721 \nTrain Loss: 0.1545 \nValidation Accuracy: 0.6210 \nValidation Loss: 1.3729 \n \nTraining and evaluation time: 1:00:13 \n",
          "output_type": "stream"
        }
      ]
    },
    {
      "cell_type": "code",
      "source": [
        "valid_loss, valid_acc, valid_pred_10, valid_labels = evaluate(model_10, dev_dataloader, return_pred_labels=True)"
      ],
      "metadata": {
        "execution": {
          "iopub.status.busy": "2024-02-02T13:38:23.815298Z",
          "iopub.execute_input": "2024-02-02T13:38:23.815687Z",
          "iopub.status.idle": "2024-02-02T13:39:45.588781Z",
          "shell.execute_reply.started": "2024-02-02T13:38:23.815657Z",
          "shell.execute_reply": "2024-02-02T13:39:45.587833Z"
        },
        "trusted": true,
        "colab": {
          "referenced_widgets": [
            "3b0fed1de5d04d398fe36e4fea085f21"
          ]
        },
        "id": "JBjpTD16t5_C",
        "outputId": "3d507cf6-4d76-415a-fb9a-fb85b0ea87f8"
      },
      "execution_count": null,
      "outputs": [
        {
          "output_type": "display_data",
          "data": {
            "text/plain": "Validation:   0%|          | 0/94 [00:00<?, ?it/s]",
            "application/vnd.jupyter.widget-view+json": {
              "version_major": 2,
              "version_minor": 0,
              "model_id": "3b0fed1de5d04d398fe36e4fea085f21"
            }
          },
          "metadata": {}
        }
      ]
    },
    {
      "cell_type": "code",
      "source": [
        "from sklearn.metrics import classification_report\n",
        "import torch\n",
        "from sklearn.metrics import accuracy_score\n",
        "\n",
        "accuracy = accuracy_score(valid_labels, valid_pred_10)\n",
        "print(f\"Validation Accuracy: {accuracy}\")\n",
        "\n",
        "# Now generate the classification report\n",
        "print('Classification Report:')\n",
        "print(classification_report(valid_pred_10, valid_labels,))"
      ],
      "metadata": {
        "execution": {
          "iopub.status.busy": "2024-02-02T13:39:48.672585Z",
          "iopub.execute_input": "2024-02-02T13:39:48.672987Z",
          "iopub.status.idle": "2024-02-02T13:39:48.690732Z",
          "shell.execute_reply.started": "2024-02-02T13:39:48.672958Z",
          "shell.execute_reply": "2024-02-02T13:39:48.689839Z"
        },
        "trusted": true,
        "id": "l21Z_lX6t5_C",
        "outputId": "0e59cf62-cd77-43ff-f68d-0b44e9b37463"
      },
      "execution_count": null,
      "outputs": [
        {
          "name": "stdout",
          "text": "Validation Accuracy: 0.621\nClassification Report:\n              precision    recall  f1-score   support\n\n           0       0.43      0.98      0.59       217\n           1       0.69      0.88      0.77       393\n           2       0.91      0.43      0.58      1053\n           3       0.04      0.05      0.04       328\n           4       1.00      0.83      0.90       604\n           5       0.67      0.82      0.74       405\n\n    accuracy                           0.62      3000\n   macro avg       0.62      0.67      0.61      3000\nweighted avg       0.73      0.62      0.64      3000\n\n",
          "output_type": "stream"
        }
      ]
    },
    {
      "cell_type": "code",
      "source": [
        "plot_confusion_matrix(valid_pred_10, valid_labels)"
      ],
      "metadata": {
        "execution": {
          "iopub.status.busy": "2024-02-02T13:39:57.710291Z",
          "iopub.execute_input": "2024-02-02T13:39:57.710645Z",
          "iopub.status.idle": "2024-02-02T13:39:57.934146Z",
          "shell.execute_reply.started": "2024-02-02T13:39:57.710618Z",
          "shell.execute_reply": "2024-02-02T13:39:57.933185Z"
        },
        "trusted": true,
        "id": "5qCJIXRht5_C",
        "outputId": "3eda4c7a-72fa-49d7-b16b-756a789e0929"
      },
      "execution_count": null,
      "outputs": [
        {
          "output_type": "display_data",
          "data": {
            "text/plain": "<Figure size 600x600 with 1 Axes>",
            "image/png": "[encoded data removed]"
          },
          "metadata": {}
        }
      ]
    },
    {
      "cell_type": "code",
      "source": [
        "with open('valid_10.txt', 'wb') as f:\n",
        "    np.save(f, np.array(valid_pred_10))"
      ],
      "metadata": {
        "execution": {
          "iopub.status.busy": "2024-02-02T13:40:18.654137Z",
          "iopub.execute_input": "2024-02-02T13:40:18.654842Z",
          "iopub.status.idle": "2024-02-02T13:40:18.660032Z",
          "shell.execute_reply.started": "2024-02-02T13:40:18.654787Z",
          "shell.execute_reply": "2024-02-02T13:40:18.658942Z"
        },
        "trusted": true,
        "id": "qL54Vt7at5_C"
      },
      "execution_count": null,
      "outputs": []
    },
    {
      "cell_type": "markdown",
      "source": [
        "## Percent 50"
      ],
      "metadata": {
        "id": "oeuV6LnUt5_D"
      }
    },
    {
      "cell_type": "code",
      "source": [
        "model_50 = BertForClassification(bert_model)\n",
        "model_50 = nn.DataParallel(model_50).to(device)"
      ],
      "metadata": {
        "execution": {
          "iopub.status.busy": "2024-02-02T15:24:15.488804Z",
          "iopub.execute_input": "2024-02-02T15:24:15.489925Z",
          "iopub.status.idle": "2024-02-02T15:24:16.087485Z",
          "shell.execute_reply.started": "2024-02-02T15:24:15.489889Z",
          "shell.execute_reply": "2024-02-02T15:24:16.086669Z"
        },
        "trusted": true,
        "id": "GH13lX8lt5_D"
      },
      "execution_count": null,
      "outputs": []
    },
    {
      "cell_type": "code",
      "source": [
        "train_loader_50 = create_dataset(0.5)"
      ],
      "metadata": {
        "execution": {
          "iopub.status.busy": "2024-02-02T15:24:17.401879Z",
          "iopub.execute_input": "2024-02-02T15:24:17.402611Z",
          "iopub.status.idle": "2024-02-02T15:24:17.517311Z",
          "shell.execute_reply.started": "2024-02-02T15:24:17.402579Z",
          "shell.execute_reply": "2024-02-02T15:24:17.516490Z"
        },
        "trusted": true,
        "id": "k82gHnfot5_D"
      },
      "execution_count": null,
      "outputs": []
    },
    {
      "cell_type": "code",
      "source": [
        "train_evaluate(model_50, train_loader_50, dev_dataloader, 7)"
      ],
      "metadata": {
        "trusted": true,
        "id": "Cgf9cFvAt5_D"
      },
      "execution_count": null,
      "outputs": []
    },
    {
      "cell_type": "code",
      "source": [
        "valid_loss, valid_acc, valid_pred_50, valid_labels = evaluate(model_50, dev_dataloader, return_pred_labels=True)"
      ],
      "metadata": {
        "execution": {
          "iopub.status.busy": "2024-02-02T09:07:13.347707Z",
          "iopub.execute_input": "2024-02-02T09:07:13.348643Z",
          "iopub.status.idle": "2024-02-02T09:08:31.666592Z",
          "shell.execute_reply.started": "2024-02-02T09:07:13.348608Z",
          "shell.execute_reply": "2024-02-02T09:08:31.665715Z"
        },
        "trusted": true,
        "colab": {
          "referenced_widgets": [
            "1fefd2a45e214658ae99fef750c5f0c1"
          ]
        },
        "id": "vwxItRQwt5_D",
        "outputId": "c799c49c-0a45-48c5-cbe3-76db525cab96"
      },
      "execution_count": null,
      "outputs": [
        {
          "output_type": "display_data",
          "data": {
            "text/plain": "Validation:   0%|          | 0/94 [00:00<?, ?it/s]",
            "application/vnd.jupyter.widget-view+json": {
              "version_major": 2,
              "version_minor": 0,
              "model_id": "1fefd2a45e214658ae99fef750c5f0c1"
            }
          },
          "metadata": {}
        }
      ]
    },
    {
      "cell_type": "code",
      "source": [
        "from sklearn.metrics import classification_report\n",
        "import torch\n",
        "from sklearn.metrics import accuracy_score\n",
        "\n",
        "accuracy = accuracy_score(valid_labels, valid_pred_50)\n",
        "print(f\"Validation Accuracy: {accuracy}\")\n",
        "\n",
        "# Now generate the classification report\n",
        "print('Classification Report:')\n",
        "print(classification_report(valid_pred_50, valid_labels,))"
      ],
      "metadata": {
        "execution": {
          "iopub.status.busy": "2024-02-02T09:10:36.677699Z",
          "iopub.execute_input": "2024-02-02T09:10:36.678473Z",
          "iopub.status.idle": "2024-02-02T09:10:36.702794Z",
          "shell.execute_reply.started": "2024-02-02T09:10:36.678443Z",
          "shell.execute_reply": "2024-02-02T09:10:36.701862Z"
        },
        "trusted": true,
        "id": "CHnXYVfqt5_D",
        "outputId": "5fe8dfe5-3bd6-41b6-f798-cded9c97a907"
      },
      "execution_count": null,
      "outputs": [
        {
          "name": "stdout",
          "text": "Validation Accuracy: 0.6633333333333333\nClassification Report:\n              precision    recall  f1-score   support\n\n           0       0.38      0.99      0.55       193\n           1       0.90      0.82      0.86       547\n           2       0.86      0.45      0.59       948\n           3       0.05      0.12      0.07       231\n           4       1.00      0.82      0.90       607\n           5       0.79      0.83      0.81       474\n\n    accuracy                           0.66      3000\n   macro avg       0.66      0.67      0.63      3000\nweighted avg       0.79      0.66      0.70      3000\n\n",
          "output_type": "stream"
        }
      ]
    },
    {
      "cell_type": "code",
      "source": [
        "plot_confusion_matrix(valid_pred_50, valid_labels)"
      ],
      "metadata": {
        "execution": {
          "iopub.status.busy": "2024-02-02T09:11:04.509010Z",
          "iopub.execute_input": "2024-02-02T09:11:04.509736Z",
          "iopub.status.idle": "2024-02-02T09:11:04.781912Z",
          "shell.execute_reply.started": "2024-02-02T09:11:04.509706Z",
          "shell.execute_reply": "2024-02-02T09:11:04.780932Z"
        },
        "trusted": true,
        "id": "RRwGSL1bt5_E",
        "outputId": "4ea5368f-9436-4a97-cb26-0f14f3c8c32e"
      },
      "execution_count": null,
      "outputs": [
        {
          "output_type": "display_data",
          "data": {
            "text/plain": "<Figure size 600x600 with 1 Axes>",
            "image/png": "[encoded data removed]"
          },
          "metadata": {}
        }
      ]
    },
    {
      "cell_type": "code",
      "source": [
        "with open('valid_50.txt', 'wb') as f:\n",
        "    np.save(f, np.array(valid_pred_50))"
      ],
      "metadata": {
        "execution": {
          "iopub.status.busy": "2024-02-02T09:12:55.428488Z",
          "iopub.execute_input": "2024-02-02T09:12:55.429293Z",
          "iopub.status.idle": "2024-02-02T09:12:55.434772Z",
          "shell.execute_reply.started": "2024-02-02T09:12:55.429252Z",
          "shell.execute_reply": "2024-02-02T09:12:55.433769Z"
        },
        "trusted": true,
        "id": "0QSC9XH-t5_E"
      },
      "execution_count": null,
      "outputs": []
    },
    {
      "cell_type": "markdown",
      "source": [
        "##Results"
      ],
      "metadata": {
        "id": "-OYVZZdPt5_E"
      }
    },
    {
      "cell_type": "code",
      "source": [
        "with open('valid_1.txt', 'rb') as f:\n",
        "    valid_pred_1 = np.load(f)\n",
        "with open('valid_5.txt', 'rb') as f:\n",
        "    valid_pred_5 = np.load(f)\n",
        "with open('valid_10.txt', 'rb') as f:\n",
        "    valid_pred_10 = np.load(f)\n",
        "with open('valid_50.txt', 'rb') as f:\n",
        "    valid_pred_50 = np.load(f)"
      ],
      "metadata": {
        "execution": {
          "iopub.status.busy": "2024-02-02T13:41:12.295306Z",
          "iopub.execute_input": "2024-02-02T13:41:12.295655Z",
          "iopub.status.idle": "2024-02-02T13:41:12.302946Z",
          "shell.execute_reply.started": "2024-02-02T13:41:12.295628Z",
          "shell.execute_reply": "2024-02-02T13:41:12.301979Z"
        },
        "trusted": true,
        "id": "KK2FAtAUt5_E"
      },
      "execution_count": null,
      "outputs": []
    },
    {
      "cell_type": "code",
      "source": [
        "accuracies = []\n",
        "f1_scores = []\n",
        "\n",
        "accuracies.append(accuracy_score(valid_labels, valid_pred_1))\n",
        "f1_scores.append(classification_report(valid_pred_1, valid_labels))\n",
        "\n",
        "accuracies.append(accuracy_score(valid_labels, valid_pred_5))\n",
        "f1_scores.append(classification_report(valid_pred_5, valid_labels))\n",
        "\n",
        "accuracies.append(accuracy_score(valid_labels, valid_pred_10))\n",
        "f1_scores.append(classification_report(valid_pred_10, valid_labels))\n",
        "\n",
        "accuracies.append(accuracy_score(valid_labels, valid_pred_50))\n",
        "f1_scores.append(classification_report(valid_pred_50, valid_labels))"
      ],
      "metadata": {
        "id": "_pXGfp2R3C2p",
        "execution": {
          "iopub.status.busy": "2024-02-02T13:41:19.976785Z",
          "iopub.execute_input": "2024-02-02T13:41:19.977867Z",
          "iopub.status.idle": "2024-02-02T13:41:20.012365Z",
          "shell.execute_reply.started": "2024-02-02T13:41:19.977813Z",
          "shell.execute_reply": "2024-02-02T13:41:20.011608Z"
        },
        "trusted": true
      },
      "execution_count": null,
      "outputs": []
    },
    {
      "cell_type": "code",
      "source": [
        "import matplotlib.pyplot as plt\n",
        "\n",
        "ps = [1, 5, 10, 50]\n",
        "\n",
        "# Creating two subplots\n",
        "fig, (ax1, ax2) = plt.subplots(1, 2, figsize=(12, 6))\n",
        "\n",
        "# Plot F1 Scores\n",
        "ax1.plot(ps, f1_scores, 'o--', label='BERT')\n",
        "ax1.set_xscale('linear')  # Change to linear scale if you prefer\n",
        "ax1.set_xticks(ps)  # Set the ticks to be at the percentages\n",
        "ax1.set_xlabel('Annotated %')\n",
        "ax1.set_ylabel('F1 Score')\n",
        "ax1.grid(True)  # Add grid for better readability\n",
        "\n",
        "# Plot Accuracy\n",
        "ax2.plot(ps, accuracies, 'o--', label='BERT')\n",
        "ax2.set_xscale('linear')  # Change to linear scale if you prefer\n",
        "ax2.set_xticks(ps)  # Set the ticks to be at the percentages\n",
        "ax2.set_xlabel('Annotated %')\n",
        "ax2.set_ylabel('Accuracy')\n",
        "ax2.grid(True)  # Add grid for better readability\n",
        "\n",
        "# Adjust subplot layout and add legends\n",
        "ax1.legend()\n",
        "ax2.legend()\n",
        "plt.tight_layout()\n",
        "plt.show()"
      ],
      "metadata": {
        "id": "y-v6uIdv_KvD",
        "execution": {
          "iopub.status.busy": "2024-02-02T16:36:13.258951Z",
          "iopub.execute_input": "2024-02-02T16:36:13.259557Z",
          "iopub.status.idle": "2024-02-02T16:36:13.648089Z",
          "shell.execute_reply.started": "2024-02-02T16:36:13.259526Z",
          "shell.execute_reply": "2024-02-02T16:36:13.647147Z"
        },
        "trusted": true,
        "outputId": "ca8b85c2-c898-4ad3-fec1-a149cf6f2411"
      },
      "execution_count": null,
      "outputs": [
        {
          "output_type": "display_data",
          "data": {
            "text/plain": "<Figure size 1200x600 with 2 Axes>",
            "image/png": "[encoded data removed]"
          },
          "metadata": {}
        }
      ]
    }
  ]
}